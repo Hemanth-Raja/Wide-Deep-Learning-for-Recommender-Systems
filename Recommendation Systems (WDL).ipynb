{
  "cells": [
    {
      "cell_type": "code",
      "execution_count": 1,
      "metadata": {
        "id": "E1NI4oWW5Uxo"
      },
      "outputs": [],
      "source": [
        "import os\n",
        "import pandas as pd\n",
        "import numpy as np\n",
        "from time import time\n",
        "from datetime import datetime, timedelta\n",
        "from sklearn.preprocessing import OneHotEncoder, LabelEncoder, MinMaxScaler\n",
        "from sklearn.model_selection import train_test_split\n",
        "from keras.layers import Input, Embedding, concatenate, Flatten, Dense, Dropout\n",
        "from keras.models import Model\n",
        "from tensorflow.keras.utils import plot_model\n",
        "from tensorflow.keras.callbacks import TensorBoard, EarlyStopping, ModelCheckpoint\n",
        "import keras\n",
        "import tensorflow as tf"
      ]
    },
    {
      "cell_type": "code",
      "execution_count": 2,
      "metadata": {
        "colab": {
          "base_uri": "https://localhost:8080/"
        },
        "id": "mYn8TGx77Ymx",
        "outputId": "9f28b9d1-5873-409b-80c5-fa9fa5a29b9e"
      },
      "outputs": [
        {
          "output_type": "stream",
          "name": "stdout",
          "text": [
            "Drive already mounted at /content/drive; to attempt to forcibly remount, call drive.mount(\"/content/drive\", force_remount=True).\n"
          ]
        }
      ],
      "source": [
        "from google.colab import drive\n",
        "\n",
        "drive.mount('/content/drive')"
      ]
    },
    {
      "cell_type": "code",
      "execution_count": 3,
      "metadata": {
        "id": "GHn1ueRF7bXE"
      },
      "outputs": [],
      "source": [
        "# Column headers for the dataset\n",
        "data_cols = ['user id', 'movie id', 'rating', 'timestamp']\n",
        "item_cols = ['movie id', 'movie title', 'release date', 'video release date', 'IMDb URL', 'unknown', 'Action',\n",
        "             'Adventure', 'Animation', 'Childrens', 'Comedy', 'Crime', 'Documentary', 'Drama', 'Fantasy', 'Film-Noir',\n",
        "             'Horror', 'Musical', 'Mystery', 'Romance ', 'Sci-Fi', 'Thriller', 'War', 'Western']\n",
        "user_cols = ['user id', 'age', 'gender', 'occupation', 'zip code']\n",
        "\n",
        "# Importing the data files into dataframes\n",
        "users = pd.read_csv('/content/drive/MyDrive/ml-100k/u.user', sep='|', names=user_cols, encoding='latin-1')\n",
        "item = pd.read_csv('/content/drive/MyDrive/ml-100k/u.item', sep='|', names=item_cols, encoding='latin-1')\n",
        "data = pd.read_csv('/content/drive/MyDrive/ml-100k/u.data', sep='\\t', names=data_cols, encoding='latin-1')\n",
        "\n",
        "# Create a merged dataframe\n",
        "df = pd.merge(pd.merge(item, data), users)"
      ]
    },
    {
      "cell_type": "code",
      "execution_count": 4,
      "metadata": {
        "colab": {
          "base_uri": "https://localhost:8080/"
        },
        "id": "j9OBeRwR79Os",
        "outputId": "3dca73f7-7adc-434b-c97c-c5e736c4dc32"
      },
      "outputs": [
        {
          "output_type": "stream",
          "name": "stderr",
          "text": [
            "/usr/local/lib/python3.7/dist-packages/ipykernel_launcher.py:2: SettingWithCopyWarning: \n",
            "A value is trying to be set on a copy of a slice from a DataFrame.\n",
            "Try using .loc[row_indexer,col_indexer] = value instead\n",
            "\n",
            "See the caveats in the documentation: https://pandas.pydata.org/pandas-docs/stable/user_guide/indexing.html#returning-a-view-versus-a-copy\n",
            "  \n",
            "/usr/local/lib/python3.7/dist-packages/sklearn/utils/deprecation.py:87: FutureWarning: Function get_feature_names is deprecated; get_feature_names is deprecated in 1.0 and will be removed in 1.2. Please use get_feature_names_out instead.\n",
            "  warnings.warn(msg, category=FutureWarning)\n"
          ]
        }
      ],
      "source": [
        "df_wide = df[['gender', 'occupation']]\n",
        "df_wide['gender_occupation'] = df_wide['gender'] + \"_\" + df_wide['occupation']\n",
        "encoder = OneHotEncoder(handle_unknown='ignore')\n",
        "encoder.fit(df_wide[['gender_occupation']])\n",
        "one_hot_encoded_df = pd.DataFrame(encoder.transform(df_wide[['gender_occupation']]).toarray(),\n",
        "                                  columns=encoder.get_feature_names())\n",
        "df_wide = df_wide.join(one_hot_encoded_df)\n",
        "df_wide.drop(['gender', 'occupation', 'gender_occupation'], axis=1, inplace=True)"
      ]
    },
    {
      "cell_type": "code",
      "execution_count": 5,
      "metadata": {
        "colab": {
          "base_uri": "https://localhost:8080/"
        },
        "id": "ljyeotJ5BIMp",
        "outputId": "aaeac770-804d-41ae-d2d3-b8a5f23dee84"
      },
      "outputs": [
        {
          "output_type": "stream",
          "name": "stderr",
          "text": [
            "/usr/local/lib/python3.7/dist-packages/ipykernel_launcher.py:7: SettingWithCopyWarning: \n",
            "A value is trying to be set on a copy of a slice from a DataFrame.\n",
            "Try using .loc[row_indexer,col_indexer] = value instead\n",
            "\n",
            "See the caveats in the documentation: https://pandas.pydata.org/pandas-docs/stable/user_guide/indexing.html#returning-a-view-versus-a-copy\n",
            "  import sys\n",
            "/usr/local/lib/python3.7/dist-packages/pandas/core/frame.py:4913: SettingWithCopyWarning: \n",
            "A value is trying to be set on a copy of a slice from a DataFrame\n",
            "\n",
            "See the caveats in the documentation: https://pandas.pydata.org/pandas-docs/stable/user_guide/indexing.html#returning-a-view-versus-a-copy\n",
            "  errors=errors,\n",
            "/usr/local/lib/python3.7/dist-packages/sklearn/preprocessing/_label.py:98: DataConversionWarning: A column-vector y was passed when a 1d array was expected. Please change the shape of y to (n_samples, ), for example using ravel().\n",
            "  y = column_or_1d(y, warn=True)\n",
            "/usr/local/lib/python3.7/dist-packages/sklearn/preprocessing/_label.py:133: DataConversionWarning: A column-vector y was passed when a 1d array was expected. Please change the shape of y to (n_samples, ), for example using ravel().\n",
            "  y = column_or_1d(y, warn=True)\n",
            "/usr/local/lib/python3.7/dist-packages/ipykernel_launcher.py:17: SettingWithCopyWarning: \n",
            "A value is trying to be set on a copy of a slice from a DataFrame.\n",
            "Try using .loc[row_indexer,col_indexer] = value instead\n",
            "\n",
            "See the caveats in the documentation: https://pandas.pydata.org/pandas-docs/stable/user_guide/indexing.html#returning-a-view-versus-a-copy\n",
            "/usr/local/lib/python3.7/dist-packages/ipykernel_launcher.py:24: SettingWithCopyWarning: \n",
            "A value is trying to be set on a copy of a slice from a DataFrame.\n",
            "Try using .loc[row_indexer,col_indexer] = value instead\n",
            "\n",
            "See the caveats in the documentation: https://pandas.pydata.org/pandas-docs/stable/user_guide/indexing.html#returning-a-view-versus-a-copy\n"
          ]
        }
      ],
      "source": [
        "df_deep = df[['age', 'unknown', 'Action', 'Adventure', 'Animation', 'Childrens', 'Comedy', 'Crime', 'Documentary',\n",
        "              'Drama', 'Fantasy', 'Film-Noir', 'Horror', 'Musical', 'Mystery', 'Romance ', 'Sci-Fi', 'Thriller', 'War',\n",
        "              'Western', 'gender', 'occupation']]\n",
        "# Combine sparse categorical features into one single genre feature\n",
        "df_deep['genre'] = df_deep[['unknown', 'Action', 'Adventure', 'Animation', 'Childrens', 'Comedy', 'Crime', 'Documentary',\n",
        "                            'Drama', 'Fantasy', 'Film-Noir', 'Horror', 'Musical', 'Mystery', 'Romance ', 'Sci-Fi',\n",
        "                            'Thriller', 'War', 'Western']].idxmax(1)\n",
        "df_deep.drop(columns=['unknown', 'Action', 'Adventure', 'Animation', 'Childrens', 'Comedy', 'Crime', 'Documentary',\n",
        "                      'Drama', 'Fantasy', 'Film-Noir', 'Horror', 'Musical', 'Mystery', 'Romance ', 'Sci-Fi', 'Thriller',\n",
        "                      'War', 'Western'], axis=1, inplace=True)\n",
        "\n",
        "# Encode categorical features\n",
        "for feature in ['gender', 'occupation', 'genre']:\n",
        "    encoder = LabelEncoder()\n",
        "    encoder.fit(df_deep[[feature]])\n",
        "    transformed_feature = encoder.transform(df_deep[[feature]])\n",
        "    df_deep[feature] = transformed_feature\n",
        "\n",
        "# Min-max scaling for numerical features\n",
        "for feature in ['age']:\n",
        "    scaler = MinMaxScaler()\n",
        "    scaler.fit(df_deep[[feature]])\n",
        "    transformed_feature = scaler.transform(df_deep[[feature]])\n",
        "    df_deep[feature] = transformed_feature"
      ]
    },
    {
      "cell_type": "code",
      "execution_count": 6,
      "metadata": {
        "id": "9ua2L-LuBQ_Q"
      },
      "outputs": [],
      "source": [
        "# Split data\n",
        "X = pd.concat([df_wide, df_deep], axis=1)\n",
        "y = df[['rating']]\n",
        "X_train, X_test, y_train, y_test = train_test_split(X, y, test_size=0.2, random_state=42)\n",
        "\n",
        "def prepare_independent_variables(X):\n",
        "    \"\"\"Split X dataframe into its separate input components for the neural network\n",
        "    \"\"\"\n",
        "    wide_inputs = X[['x0_F_administrator', 'x0_F_artist', 'x0_F_educator', 'x0_F_engineer',\n",
        "                     'x0_F_entertainment', 'x0_F_executive', 'x0_F_healthcare',\n",
        "                     'x0_F_homemaker', 'x0_F_lawyer', 'x0_F_librarian', 'x0_F_marketing',\n",
        "                     'x0_F_none', 'x0_F_other', 'x0_F_programmer', 'x0_F_retired',\n",
        "                     'x0_F_salesman', 'x0_F_scientist', 'x0_F_student', 'x0_F_technician',\n",
        "                     'x0_F_writer', 'x0_M_administrator', 'x0_M_artist', 'x0_M_doctor',\n",
        "                     'x0_M_educator', 'x0_M_engineer', 'x0_M_entertainment',\n",
        "                     'x0_M_executive', 'x0_M_healthcare', 'x0_M_homemaker', 'x0_M_lawyer',\n",
        "                     'x0_M_librarian', 'x0_M_marketing', 'x0_M_none', 'x0_M_other',\n",
        "                     'x0_M_programmer', 'x0_M_retired', 'x0_M_salesman', 'x0_M_scientist',\n",
        "                     'x0_M_student', 'x0_M_technician', 'x0_M_writer']].values\n",
        "    categorical_input_1 = X[['gender']].values\n",
        "    categorical_input_2 = X[['occupation']].values\n",
        "    categorical_input_3 = X[['genre']].values\n",
        "    numerical_input = X[['age']].values\n",
        "    return wide_inputs, categorical_input_1, categorical_input_2, categorical_input_3, \\\n",
        "           numerical_input\n",
        "\n",
        "wide_inputs_train, categorical_input_1_train, categorical_input_2_train, \\\n",
        "categorical_input_3_train, numerical_input_train = prepare_independent_variables(X_train)\n",
        "\n",
        "wide_inputs_test, categorical_input_1_test, categorical_input_2_test, \\\n",
        "categorical_input_3_test, numerical_input_test = prepare_independent_variables(X_test)\n",
        "\n",
        "y_train = y_train.values\n",
        "y_test = y_test.values"
      ]
    },
    {
      "cell_type": "code",
      "execution_count": 7,
      "metadata": {
        "id": "3q1UznOlBafF"
      },
      "outputs": [],
      "source": [
        "# Define our deep network with the Functional API\n",
        "max_num_categorical_values = 50\n",
        "emb_dimension = 64\n",
        "max_sequence_length = 1\n",
        "\n",
        "categorical_input_1 = Input(shape=(1,), name='categorical_input_1')\n",
        "emb_1 = Embedding(input_dim=max_num_categorical_values, output_dim=emb_dimension,\n",
        "                  input_length=max_sequence_length, name='emb_1')(categorical_input_1)\n",
        "emb_1 = Flatten()(emb_1)\n",
        "categorical_input_2 = Input(shape=(1,), name='categorical_input_2')\n",
        "emb_2 = Embedding(input_dim=max_num_categorical_values, output_dim=emb_dimension,\n",
        "                  input_length=max_sequence_length, name='emb_2')(categorical_input_2)\n",
        "emb_2 = Flatten()(emb_2)\n",
        "categorical_input_3 = Input(shape=(1,), name='categorical_input_3')\n",
        "emb_3 = Embedding(input_dim=max_num_categorical_values, output_dim=emb_dimension,\n",
        "                  input_length=max_sequence_length, name='emb_3')(categorical_input_3)\n",
        "emb_3 = Flatten()(emb_3)\n",
        "numerical_input = Input(shape=(1,), name='numerical_input')\n",
        "concatenated_embeddings = concatenate([emb_1, emb_2, emb_3, numerical_input])\n",
        "concatenated_embeddings = Dropout(rate=0.2)(concatenated_embeddings)\n",
        "x1 = Dense(64, activation='relu')(concatenated_embeddings)\n",
        "# x1 = Dropout(rate=0.2)(x1)\n",
        "x2 = Dense(64, activation='relu')(x1)\n",
        "# x2 = Dropout(rate=0.2)(x2)\n",
        "x3 = Dense(64, activation='relu')(x2)\n",
        "# x3 = Dropout(rate=0.2)(x3)\n",
        "x4 = Dense(64, activation='relu')(concatenate([x1, x3]))\n",
        "# x4 = Dropout(rate=0.2)(x4)\n",
        "x5 = Dense(64, activation='relu')(x4)\n",
        "# x5 = Dropout(rate=0.2)(x5)\n",
        "x6 = Dense(64, activation='relu')(x5)\n",
        "# x6 = Dropout(rate=0.2)(x6)\n",
        "x7 = Dense(64, activation='relu')(concatenate([x4, x6]))\n",
        "# x7 = Dropout(rate=0.2)(x7)\n",
        "x8 = Dense(64, activation='relu')(x7)\n",
        "# x8 = Dropout(rate=0.2)(x8)\n",
        "x9 = Dense(64, activation='relu')(x8)\n",
        "# x9 = Dropout(rate=0.2)(x9)\n",
        "deep_output = Dense(64, activation='relu')(x9)"
      ]
    },
    {
      "cell_type": "code",
      "execution_count": 8,
      "metadata": {
        "id": "goLEtg3uBezA"
      },
      "outputs": [],
      "source": [
        "# Define our wide network with the Functional API\n",
        "num_features = len(df_wide.columns)\n",
        "wide_inputs = Input(shape=(num_features,), name='wide_inputs')"
      ]
    },
    {
      "cell_type": "code",
      "execution_count": 9,
      "metadata": {
        "colab": {
          "base_uri": "https://localhost:8080/"
        },
        "id": "4XmGiVMdBhgR",
        "outputId": "3afe8dba-062c-436d-d9f0-11a8a836095b"
      },
      "outputs": [
        {
          "output_type": "stream",
          "name": "stdout",
          "text": [
            "Model: \"model\"\n",
            "__________________________________________________________________________________________________\n",
            " Layer (type)                   Output Shape         Param #     Connected to                     \n",
            "==================================================================================================\n",
            " categorical_input_1 (InputLaye  [(None, 1)]         0           []                               \n",
            " r)                                                                                               \n",
            "                                                                                                  \n",
            " categorical_input_2 (InputLaye  [(None, 1)]         0           []                               \n",
            " r)                                                                                               \n",
            "                                                                                                  \n",
            " categorical_input_3 (InputLaye  [(None, 1)]         0           []                               \n",
            " r)                                                                                               \n",
            "                                                                                                  \n",
            " emb_1 (Embedding)              (None, 1, 64)        3200        ['categorical_input_1[0][0]']    \n",
            "                                                                                                  \n",
            " emb_2 (Embedding)              (None, 1, 64)        3200        ['categorical_input_2[0][0]']    \n",
            "                                                                                                  \n",
            " emb_3 (Embedding)              (None, 1, 64)        3200        ['categorical_input_3[0][0]']    \n",
            "                                                                                                  \n",
            " flatten (Flatten)              (None, 64)           0           ['emb_1[0][0]']                  \n",
            "                                                                                                  \n",
            " flatten_1 (Flatten)            (None, 64)           0           ['emb_2[0][0]']                  \n",
            "                                                                                                  \n",
            " flatten_2 (Flatten)            (None, 64)           0           ['emb_3[0][0]']                  \n",
            "                                                                                                  \n",
            " numerical_input (InputLayer)   [(None, 1)]          0           []                               \n",
            "                                                                                                  \n",
            " concatenate (Concatenate)      (None, 193)          0           ['flatten[0][0]',                \n",
            "                                                                  'flatten_1[0][0]',              \n",
            "                                                                  'flatten_2[0][0]',              \n",
            "                                                                  'numerical_input[0][0]']        \n",
            "                                                                                                  \n",
            " dropout (Dropout)              (None, 193)          0           ['concatenate[0][0]']            \n",
            "                                                                                                  \n",
            " dense (Dense)                  (None, 64)           12416       ['dropout[0][0]']                \n",
            "                                                                                                  \n",
            " dense_1 (Dense)                (None, 64)           4160        ['dense[0][0]']                  \n",
            "                                                                                                  \n",
            " dense_2 (Dense)                (None, 64)           4160        ['dense_1[0][0]']                \n",
            "                                                                                                  \n",
            " concatenate_1 (Concatenate)    (None, 128)          0           ['dense[0][0]',                  \n",
            "                                                                  'dense_2[0][0]']                \n",
            "                                                                                                  \n",
            " dense_3 (Dense)                (None, 64)           8256        ['concatenate_1[0][0]']          \n",
            "                                                                                                  \n",
            " dense_4 (Dense)                (None, 64)           4160        ['dense_3[0][0]']                \n",
            "                                                                                                  \n",
            " dense_5 (Dense)                (None, 64)           4160        ['dense_4[0][0]']                \n",
            "                                                                                                  \n",
            " concatenate_2 (Concatenate)    (None, 128)          0           ['dense_3[0][0]',                \n",
            "                                                                  'dense_5[0][0]']                \n",
            "                                                                                                  \n",
            " dense_6 (Dense)                (None, 64)           8256        ['concatenate_2[0][0]']          \n",
            "                                                                                                  \n",
            " dense_7 (Dense)                (None, 64)           4160        ['dense_6[0][0]']                \n",
            "                                                                                                  \n",
            " dense_8 (Dense)                (None, 64)           4160        ['dense_7[0][0]']                \n",
            "                                                                                                  \n",
            " wide_inputs (InputLayer)       [(None, 41)]         0           []                               \n",
            "                                                                                                  \n",
            " dense_9 (Dense)                (None, 64)           4160        ['dense_8[0][0]']                \n",
            "                                                                                                  \n",
            " concatenate_3 (Concatenate)    (None, 105)          0           ['wide_inputs[0][0]',            \n",
            "                                                                  'dense_9[0][0]']                \n",
            "                                                                                                  \n",
            " dropout_1 (Dropout)            (None, 105)          0           ['concatenate_3[0][0]']          \n",
            "                                                                                                  \n",
            " dense_10 (Dense)               (None, 1)            106         ['dropout_1[0][0]']              \n",
            "                                                                                                  \n",
            "==================================================================================================\n",
            "Total params: 67,754\n",
            "Trainable params: 67,754\n",
            "Non-trainable params: 0\n",
            "__________________________________________________________________________________________________\n"
          ]
        }
      ],
      "source": [
        "# Combine wide and deep into one model\n",
        "x = concatenate([wide_inputs, deep_output])\n",
        "x = Dropout(rate=0.2)(x)\n",
        "wide_and_deep_output = Dense(1, activation='relu')(x)\n",
        "wide_and_deep_model = Model(inputs=[wide_inputs] + [categorical_input_1] + \n",
        "                            [categorical_input_2] + [categorical_input_3] + \n",
        "                            [numerical_input], outputs=wide_and_deep_output)\n",
        "wide_and_deep_model.summary()"
      ]
    },
    {
      "cell_type": "code",
      "execution_count": 10,
      "metadata": {
        "id": "5HVqTKCWBkM2"
      },
      "outputs": [],
      "source": [
        "wide_and_deep_model.compile(loss='mse', optimizer='adam', metrics=['mse'])\n"
      ]
    },
    {
      "cell_type": "code",
      "execution_count": 11,
      "metadata": {
        "colab": {
          "base_uri": "https://localhost:8080/"
        },
        "id": "zUqJhNUxBqoC",
        "outputId": "defd6c67-0c85-49d2-f9a7-2f9d44b75144"
      },
      "outputs": [
        {
          "output_type": "stream",
          "name": "stdout",
          "text": [
            "Epoch 1/10\n",
            "2000/2000 [==============================] - 28s 12ms/step - loss: 1.4514 - mse: 1.4514 - val_loss: 1.2210 - val_mse: 1.2210\n",
            "Epoch 2/10\n",
            "2000/2000 [==============================] - 11s 5ms/step - loss: 1.3207 - mse: 1.3207 - val_loss: 1.2284 - val_mse: 1.2284\n",
            "Epoch 3/10\n",
            "2000/2000 [==============================] - 12s 6ms/step - loss: 1.2958 - mse: 1.2958 - val_loss: 1.2345 - val_mse: 1.2345\n",
            "Epoch 4/10\n",
            "2000/2000 [==============================] - 10s 5ms/step - loss: 1.2759 - mse: 1.2759 - val_loss: 1.2355 - val_mse: 1.2355\n",
            "Epoch 5/10\n",
            "2000/2000 [==============================] - 11s 6ms/step - loss: 1.2689 - mse: 1.2689 - val_loss: 1.2136 - val_mse: 1.2136\n",
            "Epoch 6/10\n",
            "2000/2000 [==============================] - 11s 6ms/step - loss: 1.2601 - mse: 1.2601 - val_loss: 1.2209 - val_mse: 1.2209\n",
            "Epoch 7/10\n",
            "2000/2000 [==============================] - 11s 6ms/step - loss: 1.2482 - mse: 1.2482 - val_loss: 1.2258 - val_mse: 1.2258\n",
            "Epoch 8/10\n",
            "2000/2000 [==============================] - 12s 6ms/step - loss: 1.2439 - mse: 1.2439 - val_loss: 1.2142 - val_mse: 1.2142\n",
            "Epoch 9/10\n",
            "2000/2000 [==============================] - 11s 6ms/step - loss: 1.2339 - mse: 1.2339 - val_loss: 1.2198 - val_mse: 1.2198\n",
            "Epoch 10/10\n",
            "2000/2000 [==============================] - 13s 7ms/step - loss: 1.2282 - mse: 1.2282 - val_loss: 1.2149 - val_mse: 1.2149\n"
          ]
        },
        {
          "output_type": "execute_result",
          "data": {
            "text/plain": [
              "<keras.callbacks.History at 0x7f1fe7e74950>"
            ]
          },
          "metadata": {},
          "execution_count": 11
        }
      ],
      "source": [
        "date_time = (datetime.utcnow() + timedelta(hours=8)).strftime('[%Y-%m-%d %H-%M-%S]')\n",
        "tensorboard = TensorBoard(log_dir='./logs/tensorboard/{}'.format(date_time))\n",
        "early_stopping = EarlyStopping(monitor='val_loss', patience=20)\n",
        "model_checkpoint = ModelCheckpoint(filepath='/content/drive/MyDrive/ml-100k/wide_and_deep_model.h5',\n",
        "                                   monitor='val_loss',\n",
        "                                   save_weights_only=True,\n",
        "                                   save_best_only=True)\n",
        "callbacks = [model_checkpoint, early_stopping, tensorboard]\n",
        "\n",
        "wide_and_deep_model.fit(x={'wide_inputs': wide_inputs_train,\n",
        "                           'categorical_input_1': categorical_input_1_train,\n",
        "                           'categorical_input_2': categorical_input_2_train,\n",
        "                           'categorical_input_3': categorical_input_3_train,\n",
        "                           'numerical_input': numerical_input_train},\n",
        "                        y=y_train,\n",
        "                        batch_size=32, epochs=10, verbose=1,\n",
        "                        callbacks=callbacks, validation_split=0.2)"
      ]
    },
    {
      "cell_type": "code",
      "execution_count": 12,
      "metadata": {
        "colab": {
          "base_uri": "https://localhost:8080/"
        },
        "id": "XgXJFO7nBuJ8",
        "outputId": "874c40fb-4548-4e91-f6b4-03aa6ff358fb"
      },
      "outputs": [
        {
          "output_type": "stream",
          "name": "stdout",
          "text": [
            "625/625 [==============================] - 2s 3ms/step - loss: 1.2074 - mse: 1.2074\n"
          ]
        },
        {
          "output_type": "execute_result",
          "data": {
            "text/plain": [
              "[1.2074278593063354, 1.2074278593063354]"
            ]
          },
          "metadata": {},
          "execution_count": 12
        }
      ],
      "source": [
        "wide_and_deep_model.evaluate(x={'wide_inputs': wide_inputs_test,\n",
        "                                'categorical_input_1': categorical_input_1_test,\n",
        "                                'categorical_input_2': categorical_input_2_test,\n",
        "                                'categorical_input_3': categorical_input_3_test,\n",
        "                                'numerical_input': numerical_input_test},\n",
        "                             y=y_test,\n",
        "                             batch_size=32, verbose=1)"
      ]
    },
    {
      "cell_type": "code",
      "execution_count": 13,
      "metadata": {
        "colab": {
          "base_uri": "https://localhost:8080/"
        },
        "id": "IfnCZ6LXCDgT",
        "outputId": "79436442-9527-400c-9228-27bbf7680eae"
      },
      "outputs": [
        {
          "output_type": "stream",
          "name": "stdout",
          "text": [
            "625/625 [==============================] - 2s 2ms/step\n"
          ]
        }
      ],
      "source": [
        "predictions = wide_and_deep_model.predict(x={'wide_inputs': wide_inputs_test,\n",
        "                                             'categorical_input_1': categorical_input_1_test,\n",
        "                                             'categorical_input_2': categorical_input_2_test,\n",
        "                                             'categorical_input_3': categorical_input_3_test,\n",
        "                                             'numerical_input': numerical_input_test},\n",
        "                                          batch_size=32, verbose=1)"
      ]
    },
    {
      "cell_type": "code",
      "execution_count": 14,
      "metadata": {
        "colab": {
          "base_uri": "https://localhost:8080/"
        },
        "id": "UR2_FwLdCGmD",
        "outputId": "bc9e9a41-4c1b-4d36-ef12-cdc102290969"
      },
      "outputs": [
        {
          "output_type": "execute_result",
          "data": {
            "text/plain": [
              "array([[3.6100426],\n",
              "       [3.986638 ],\n",
              "       [3.324067 ],\n",
              "       ...,\n",
              "       [3.1929483],\n",
              "       [3.6424644],\n",
              "       [3.3647704]], dtype=float32)"
            ]
          },
          "metadata": {},
          "execution_count": 14
        }
      ],
      "source": [
        "predictions"
      ]
    },
    {
      "cell_type": "code",
      "execution_count": 15,
      "metadata": {
        "id": "sQJJvkgZFHZr",
        "colab": {
          "base_uri": "https://localhost:8080/"
        },
        "outputId": "0d2dead9-bdf5-4784-ad0e-4783347f8c9c"
      },
      "outputs": [
        {
          "output_type": "stream",
          "name": "stdout",
          "text": [
            "[1.7551992 1.7658625 1.7787608 ... 4.057716  4.0848417 4.0915713] [2 4 4 ... 5 1 1]\n"
          ]
        }
      ],
      "source": [
        "classes, counts = np.unique(predictions, return_counts=True)\n",
        "print(classes, counts)"
      ]
    },
    {
      "cell_type": "code",
      "source": [
        "import seaborn as sns\n",
        "import matplotlib.pyplot as plt\n",
        "print(classes, counts)\n",
        "plt.figure(figsize=(10,7))\n",
        "# p = sns.countplot(arr.flatten())\n",
        "# p.set(xticklabels = class_names)\n",
        "plt.barh(classes, counts)\n",
        "# plt.title('Class distribution')"
      ],
      "metadata": {
        "colab": {
          "base_uri": "https://localhost:8080/",
          "height": 464
        },
        "id": "8dM-hhCl4ghh",
        "outputId": "214669cc-9c94-4dca-8f02-26d03e7def49"
      },
      "execution_count": 16,
      "outputs": [
        {
          "output_type": "stream",
          "name": "stdout",
          "text": [
            "[1.7551992 1.7658625 1.7787608 ... 4.057716  4.0848417 4.0915713] [2 4 4 ... 5 1 1]\n"
          ]
        },
        {
          "output_type": "execute_result",
          "data": {
            "text/plain": [
              "<BarContainer object of 3770 artists>"
            ]
          },
          "metadata": {},
          "execution_count": 16
        },
        {
          "output_type": "display_data",
          "data": {
            "text/plain": [
              "<Figure size 720x504 with 1 Axes>"
            ],
            "image/png": "[encoded data removed]"
          },
          "metadata": {
            "needs_background": "light"
          }
        }
      ]
    },
    {
      "cell_type": "code",
      "source": [
        "def compute_accuracy(y_true, y_pred):\n",
        "    correct_predictions = 0\n",
        "    # iterate over each label and check\n",
        "    for true, predicted in zip(y_true, y_pred):\n",
        "        if true == predicted:\n",
        "            correct_predictions += 1\n",
        "    # compute the accuracy\n",
        "    accuracy = correct_predictions/len(y_true)\n",
        "    return accuracy"
      ],
      "metadata": {
        "id": "5II_xMWd4iTC"
      },
      "execution_count": 17,
      "outputs": []
    },
    {
      "cell_type": "code",
      "source": [
        "np.round(predictions)\n",
        "int_array = np.round(predictions).astype(int)\n"
      ],
      "metadata": {
        "id": "2czaNwC04kov"
      },
      "execution_count": 18,
      "outputs": []
    },
    {
      "cell_type": "code",
      "source": [
        "print(\"Prediction Accuracy\" , compute_accuracy(y_test, int_array))"
      ],
      "metadata": {
        "colab": {
          "base_uri": "https://localhost:8080/"
        },
        "id": "cN-EVFw24qeJ",
        "outputId": "c95eb5f0-abec-4e6b-f2c8-3c01102913e0"
      },
      "execution_count": 19,
      "outputs": [
        {
          "output_type": "stream",
          "name": "stdout",
          "text": [
            "Prediction Accuracy 0.3325\n"
          ]
        }
      ]
    }
  ],
  "metadata": {
    "colab": {
      "provenance": []
    },
    "kernelspec": {
      "display_name": "Python 3 (ipykernel)",
      "language": "python",
      "name": "python3"
    },
    "language_info": {
      "codemirror_mode": {
        "name": "ipython",
        "version": 3
      },
      "file_extension": ".py",
      "mimetype": "text/x-python",
      "name": "python",
      "nbconvert_exporter": "python",
      "pygments_lexer": "ipython3",
      "version": "3.9.13"
    }
  },
  "nbformat": 4,
  "nbformat_minor": 0
}